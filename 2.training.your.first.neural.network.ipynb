{
 "cells": [
  {
   "cell_type": "markdown",
   "metadata": {},
   "source": [
    "# Deep Learning with PyTorch\n",
    "\n",
    "\n",
    "Author: [Anand Saha](http://teleported.in/)"
   ]
  },
  {
   "cell_type": "markdown",
   "metadata": {},
   "source": [
    "### 2. Building a simple neural network"
   ]
  },
  {
   "cell_type": "code",
   "execution_count": null,
   "metadata": {},
   "outputs": [],
   "source": [
    "import torch\n",
    "import torch.nn as nn\n",
    "import matplotlib.pyplot as plt\n",
    "\n",
    "from torch.autograd import Variable\n",
    "\n",
    "# Custom DataSet\n",
    "from data import iris"
   ]
  },
  {
   "cell_type": "markdown",
   "metadata": {},
   "source": [
    "### The Dataset and the challenge\n",
    "\n",
    "![iris](data/iris.jpg)\n",
    "\n",
    "The **Iris** flower, image source: [Wikimedia](https://en.wikipedia.org/wiki/Iris_(plant))\n",
    "\n",
    "\n",
    "| sepal_length_cm | sepal_width_cm | petal_length_cm | petal_width_cm | class           |\n",
    "|-----------------|----------------|-----------------|----------------|-----------------|\n",
    "| 5.1             | 3.5            | 1.4             | 0.2            | Iris-setosa     |\n",
    "| 7.0             | 3.2            | 4.7             | 1.4            | Iris-versicolor |\n",
    "| 6.3             | 3.3            | 6.0             | 2.5            | Iris-virginica  |\n",
    "\n",
    "\n",
    "* Total instances: 150 (we have separated 20% into validation set, rest into training set)\n",
    "* Download: [Data Source](https://archive.ics.uci.edu/ml/datasets/iris)"
   ]
  },
  {
   "cell_type": "markdown",
   "metadata": {},
   "source": [
    "### Let's do a head on the raw file"
   ]
  },
  {
   "cell_type": "code",
   "execution_count": null,
   "metadata": {},
   "outputs": [],
   "source": [
    "!head data/iris.data.txt"
   ]
  },
  {
   "cell_type": "markdown",
   "metadata": {},
   "source": [
    "### Create the Fully Connected Feed Forward Neural Network"
   ]
  },
  {
   "cell_type": "markdown",
   "metadata": {},
   "source": [
    "**Create the module**"
   ]
  },
  {
   "cell_type": "code",
   "execution_count": null,
   "metadata": {},
   "outputs": [],
   "source": [
    "class IrisNet(nn.Module):\n",
    "    \n",
    "    def __init__(self, input_size, hidden1_size, hidden2_size, num_classes):\n",
    "        \n",
    "        super(IrisNet, self).__init__()\n",
    "        self.fc1 = nn.Linear(input_size, hidden1_size)\n",
    "        self.relu1 = nn.ReLU()\n",
    "        self.fc2 = nn.Linear(hidden1_size, hidden2_size)\n",
    "        self.relu2 = nn.ReLU()\n",
    "        self.fc3 = nn.Linear(hidden2_size, num_classes)  \n",
    "    \n",
    "    def forward(self, x):\n",
    "        out = self.fc1(x)\n",
    "        out = self.relu1(out)\n",
    "        out = self.fc2(out)\n",
    "        out = self.relu2(out)\n",
    "        out = self.fc3(out)\n",
    "        return out"
   ]
  },
  {
   "cell_type": "markdown",
   "metadata": {},
   "source": [
    "**Print the module**"
   ]
  },
  {
   "cell_type": "code",
   "execution_count": null,
   "metadata": {},
   "outputs": [],
   "source": [
    "model = IrisNet(4, 100, 50, 3)\n",
    "print(model)"
   ]
  },
  {
   "cell_type": "markdown",
   "metadata": {},
   "source": [
    "### Create the DataLoader"
   ]
  },
  {
   "cell_type": "code",
   "execution_count": null,
   "metadata": {},
   "outputs": [],
   "source": [
    "batch_size = 60\n",
    "iris_data_file = 'data/iris.data.txt'"
   ]
  },
  {
   "cell_type": "code",
   "execution_count": null,
   "metadata": {},
   "outputs": [],
   "source": [
    "# Get the datasets\n",
    "train_ds, test_ds = iris.get_datasets(iris_data_file)\n",
    "\n",
    "# How many instances have we got?\n",
    "print('# instances in training set: ', len(train_ds))\n",
    "print('# instances in testing/validation set: ', len(test_ds))\n",
    "\n",
    "# Create the dataloaders - for training and validation/testing\n",
    "# We will be using the term validation and testing data interchangably\n",
    "train_loader = torch.utils.data.DataLoader(dataset=train_ds, batch_size=batch_size, shuffle=True)\n",
    "test_loader  = torch.utils.data.DataLoader(dataset=test_ds, batch_size=batch_size, shuffle=True)"
   ]
  },
  {
   "cell_type": "markdown",
   "metadata": {},
   "source": [
    "### Instantiate the network, the loss function and the optimizer"
   ]
  },
  {
   "cell_type": "code",
   "execution_count": null,
   "metadata": {},
   "outputs": [],
   "source": [
    "# Our model\n",
    "net = IrisNet(4, 100, 50, 3)\n",
    "\n",
    "# Out loss function\n",
    "criterion = nn.CrossEntropyLoss()\n",
    "\n",
    "# Our optimizer\n",
    "learning_rate = 0.001\n",
    "optimizer = torch.optim.SGD(net.parameters(), lr=learning_rate, nesterov=True, momentum=0.9, dampening=0)  "
   ]
  },
  {
   "cell_type": "markdown",
   "metadata": {},
   "source": [
    "### Train it!"
   ]
  },
  {
   "cell_type": "code",
   "execution_count": null,
   "metadata": {},
   "outputs": [],
   "source": [
    "num_epochs = 500\n",
    "\n",
    "train_loss = []\n",
    "test_loss = []\n",
    "train_accuracy = []\n",
    "test_accuracy = []\n",
    "\n",
    "for epoch in range(num_epochs):\n",
    "    \n",
    "    train_correct = 0\n",
    "    train_total = 0\n",
    "    \n",
    "    for i, (items, classes) in enumerate(train_loader):\n",
    "        \n",
    "        # Convert torch tensor to Variable\n",
    "        items = Variable(items)\n",
    "        classes = Variable(classes)\n",
    "        \n",
    "        net.train()           # Put the network into training mode\n",
    "        \n",
    "        optimizer.zero_grad() # Clear off the gradients from any past operation\n",
    "        outputs = net(items)  # Do the forward pass\n",
    "        loss = criterion(outputs, classes) # Calculate the loss\n",
    "        loss.backward()       # Calculate the gradients with help of back propagation\n",
    "        optimizer.step()      # Ask the optimizer to adjust the parameters based on the gradients\n",
    "        \n",
    "        # Record the correct predictions for training data\n",
    "        train_total += classes.size(0)    \n",
    "        _, predicted = torch.max(outputs.data, 1)\n",
    "        train_correct += (predicted == classes.data).sum()\n",
    "\n",
    "        print ('Epoch %d/%d, Iteration %d/%d, Loss: %.4f' \n",
    "               %(epoch+1, num_epochs, i+1, len(train_ds)//batch_size, loss.data[0]))\n",
    "\n",
    "    net.eval()                 # Put the network into evaluation mode\n",
    "    \n",
    "    # Book keeping\n",
    "    # Record the loss\n",
    "    train_loss.append(loss.data[0])\n",
    "\n",
    "    # What was our train accuracy?\n",
    "    train_accuracy.append((100 * train_correct / train_total))\n",
    "    \n",
    "    # How did we do on the test set (the unseen set)\n",
    "    # Record the correct predictions for test data\n",
    "    test_items = torch.FloatTensor(test_ds.data.values[:, 0:4])\n",
    "    test_classes = torch.LongTensor(test_ds.data.values[:, 4])\n",
    "\n",
    "    outputs = net(Variable(test_items))\n",
    "    loss = criterion(outputs, Variable(test_classes))\n",
    "    test_loss.append(loss.data[0])\n",
    "    _, predicted = torch.max(outputs.data, 1)\n",
    "    total = test_classes.size(0)\n",
    "    correct = (predicted == test_classes).sum()\n",
    "    test_accuracy.append((100 * correct / total))"
   ]
  },
  {
   "cell_type": "markdown",
   "metadata": {},
   "source": [
    "Plot loss vs iterations"
   ]
  },
  {
   "cell_type": "code",
   "execution_count": null,
   "metadata": {},
   "outputs": [],
   "source": [
    "fig = plt.figure(figsize=(12, 8))\n",
    "plt.plot(train_loss, label='train loss')\n",
    "plt.plot(test_loss, label='test loss')\n",
    "plt.title(\"Train and Test Loss\")\n",
    "plt.legend()\n",
    "plt.show()"
   ]
  },
  {
   "cell_type": "code",
   "execution_count": null,
   "metadata": {},
   "outputs": [],
   "source": [
    "fig = plt.figure(figsize=(12, 8))\n",
    "plt.plot(train_accuracy, label='train accuracy')\n",
    "plt.plot(test_accuracy, label='test accuracy')\n",
    "plt.title(\"Train and Test Accuracy\")\n",
    "plt.legend()\n",
    "plt.show()"
   ]
  },
  {
   "cell_type": "markdown",
   "metadata": {},
   "source": [
    "### Savign the model to disk, and loading it back"
   ]
  },
  {
   "cell_type": "code",
   "execution_count": null,
   "metadata": {},
   "outputs": [],
   "source": [
    "torch.save(net.state_dict(), \"./2.model.pth\")"
   ]
  },
  {
   "cell_type": "code",
   "execution_count": null,
   "metadata": {},
   "outputs": [],
   "source": [
    "net2 = IrisNet(4, 100, 50, 3)\n",
    "net2.load_state_dict(torch.load(\"./2.model.pth\"))"
   ]
  },
  {
   "cell_type": "code",
   "execution_count": null,
   "metadata": {},
   "outputs": [],
   "source": [
    "output = net2(Variable(torch.FloatTensor([[5.1, 3.5, 1.4, 0.2]])))"
   ]
  },
  {
   "cell_type": "code",
   "execution_count": null,
   "metadata": {},
   "outputs": [],
   "source": [
    "_, predicted_class = torch.max(output.data, 1)\n",
    "print('Predicted class: ', predicted_class.numpy()[0])\n",
    "print('Expected class: ', 0 )"
   ]
  }
 ],
 "metadata": {
  "kernelspec": {
   "display_name": "Python 3",
   "language": "python",
   "name": "python3"
  },
  "language_info": {
   "codemirror_mode": {
    "name": "ipython",
    "version": 3
   },
   "file_extension": ".py",
   "mimetype": "text/x-python",
   "name": "python",
   "nbconvert_exporter": "python",
   "pygments_lexer": "ipython3",
   "version": "3.6.3"
  }
 },
 "nbformat": 4,
 "nbformat_minor": 2
}
